{
 "cells": [
  {
   "cell_type": "code",
   "execution_count": 14,
   "metadata": {
    "collapsed": false
   },
   "outputs": [
    {
     "name": "stdout",
     "output_type": "stream",
     "text": [
      " System.out.println(\"Can I haz Internetting?\")\r\n",
      "Can I haz Internet\r\n"
     ]
    }
   ],
   "source": [
    "System.out.println(\"Can I haz Internetting?\")"
   ]
  },
  {
   "cell_type": "code",
   "execution_count": 15,
   "metadata": {
    "collapsed": false
   },
   "outputs": [
    {
     "name": "stdout",
     "output_type": "stream",
     "text": [
      " ting?\r\n",
      "URL obj = new URL(\"http://www.reddit.com\")\r\n",
      "|  Modified variable obj of type URL with initial value http://www.reddit.com\r\n",
      "\r\n"
     ]
    }
   ],
   "source": [
    "URL obj = new URL(\"http://www.reddit.com\")"
   ]
  },
  {
   "cell_type": "code",
   "execution_count": 16,
   "metadata": {
    "collapsed": false
   },
   "outputs": [
    {
     "name": "stdout",
     "output_type": "stream",
     "text": [
      " URLConnection conn = obj.openConnection()\r\n",
      "|  Modified variable conn of type URLConnection with initial value sun.net.www.protocol.http.HttpURLConnection:http://www.reddit.com\r\n",
      "\r\n"
     ]
    }
   ],
   "source": [
    "URLConnection conn = obj.openConnection()"
   ]
  },
  {
   "cell_type": "code",
   "execution_count": 17,
   "metadata": {
    "collapsed": false
   },
   "outputs": [
    {
     "name": "stdout",
     "output_type": "stream",
     "text": [
      " conn.getContent()\r\n",
      "|  java.net.UnknownServiceException thrown: no content-type\r\n",
      "|        at URLConnection.getContentHandler (URLConnection.java:1236)\r\n",
      "|        at URLConnection.getContent (URLConnection.java:747)\r\n",
      "|        at (#20:1)\r\n",
      "\r\n"
     ]
    }
   ],
   "source": [
    "conn.getContent()"
   ]
  },
  {
   "cell_type": "code",
   "execution_count": 18,
   "metadata": {
    "collapsed": false
   },
   "outputs": [
    {
     "name": "stdout",
     "output_type": "stream",
     "text": [
      " conn.getContentLength()\r\n",
      "|  Expression value is: -1\r\n",
      "|    assigned to temporary variable $9 of type int\r\n",
      "\r\n"
     ]
    }
   ],
   "source": [
    "conn.getContentLength()"
   ]
  },
  {
   "cell_type": "code",
   "execution_count": 19,
   "metadata": {
    "collapsed": false
   },
   "outputs": [
    {
     "name": "stdout",
     "output_type": "stream",
     "text": [
      " conn.getContentType()\r\n",
      "|  Expression value is: null\r\n",
      "|    assigned to temporary variable $10 of type String\r\n",
      "\r\n"
     ]
    }
   ],
   "source": [
    "conn.getContentType()"
   ]
  },
  {
   "cell_type": "code",
   "execution_count": 20,
   "metadata": {
    "collapsed": false
   },
   "outputs": [
    {
     "name": "stdout",
     "output_type": "stream",
     "text": [
      " conn.getOutputStream()\r\n",
      "|  java.net.ProtocolException thrown: cannot write to a URLConnection if doOutput=false - call setDoOutput(true)\r\n",
      "|        at HttpURLConnection.getOutputStream0 (HttpURLConnection.java:1268)\r\n",
      "|        at HttpURLConnection.getOutputStream (HttpURLConnection.java:1261)\r\n",
      "|        at (#23:1)\r\n",
      "\r\n"
     ]
    }
   ],
   "source": [
    "conn.getOutputStream()"
   ]
  },
  {
   "cell_type": "code",
   "execution_count": null,
   "metadata": {
    "collapsed": true
   },
   "outputs": [],
   "source": []
  }
 ],
 "metadata": {
  "kernelspec": {
   "display_name": "Java 9",
   "language": "java",
   "name": "java"
  },
  "language_info": {
   "file_extension": ".class",
   "mimetype": "application/java-vm",
   "name": "java"
  }
 },
 "nbformat": 4,
 "nbformat_minor": 0
}
