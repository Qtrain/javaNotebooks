{
 "cells": [
  {
   "cell_type": "code",
   "execution_count": 3,
   "metadata": {
    "collapsed": false
   },
   "outputs": [
    {
     "name": "stdout",
     "output_type": "stream",
     "text": [
      " /v concise System.out.println(\"hello world\")\r\n",
      "\r\n"
     ]
    }
   ],
   "source": [
    "/v concise System.out.println(\"hello world\")"
   ]
  },
  {
   "cell_type": "code",
   "execution_count": 1,
   "metadata": {
    "collapsed": false
   },
   "outputs": [
    {
     "name": "stdout",
     "output_type": "stream",
     "text": [
      " System.out.println(\"hello \" + \"world\");\r\n",
      "hello world\r\n",
      "\r\n"
     ]
    }
   ],
   "source": [
    "System.out.println(\"hello \" + \"world\");"
   ]
  },
  {
   "cell_type": "code",
   "execution_count": 2,
   "metadata": {
    "collapsed": false
   },
   "outputs": [
    {
     "name": "stdout",
     "output_type": "stream",
     "text": [
      " /help\r\n",
      "Type a Java language expression, statement, or declaration.\r\n",
      "Or type one of the following commands:\r\n",
      "\r\n",
      "/l  or /list [all]                -- list the source you have typed\r\n",
      "       /seteditor <executable>    -- set the external editor command to use\r\n",
      "/e  or /edit <name or id>         -- edit a source entry referenced by name or id\r\n",
      "/s  or /save [all|history] <file> -- save the source you have typed\r\n",
      "/o  or /open <file>               -- open a file as source input\r\n",
      "/v  or /vars                      -- list the declared variables and their values\r\n",
      "/m  or /methods                   -- list the declared methods and their signatures\r\n",
      "/c  or /classes                   -- list the declared classes\r\n",
      "/x  or /exit                      -- exit the REPL\r\n",
      "/r  or /reset                     -- reset everything in the REPL\r\n",
      "/f  or /feedback <level>          -- feedback information: off, concise, normal, verbose, default, or ?\r\n",
      "/p  or /prompt                    -- toggle display of a prompt\r\n",
      "/cp or /classpath <path>          -- add a path to the classpath\r\n",
      "/h  or /history                   -- history of what you have typed\r\n",
      "       /setstart <file>           -- read file and set as the new start-up definitions\r\n",
      "       /savestart <file>          -- save the default start-up definitions to the file\r\n",
      "/?  or /help                      -- this help message\r\n",
      "\r\n",
      "Supported shortcuts include:\r\n",
      "<tab>       -- show possible completions for the current text\r\n",
      "Shift-<tab> -- for current method or constructor invocation, show a synopsis of the method/constructor\r\n",
      "\r\n"
     ]
    }
   ],
   "source": [
    "/help"
   ]
  },
  {
   "cell_type": "code",
   "execution_count": 3,
   "metadata": {
    "collapsed": false
   },
   "outputs": [
    {
     "name": "stdout",
     "output_type": "stream",
     "text": [
      " /l\r\n",
      "\r\n",
      "   9 : System.out.println(\"hello \" + \"world\");\r\n",
      "\r\n"
     ]
    }
   ],
   "source": [
    "/l"
   ]
  },
  {
   "cell_type": "code",
   "execution_count": 4,
   "metadata": {
    "collapsed": false
   },
   "outputs": [
    {
     "name": "stdout",
     "output_type": "stream",
     "text": [
      " /m\r\n",
      "|    printf (Ljava/lang/String;[Ljava/lang/Object;)V\r\n",
      "\r\n"
     ]
    }
   ],
   "source": [
    "/m"
   ]
  },
  {
   "cell_type": "code",
   "execution_count": 5,
   "metadata": {
    "collapsed": false
   },
   "outputs": [
    {
     "name": "stdout",
     "output_type": "stream",
     "text": [
      " }\r\n",
      "|  Warning:\r\n",
      "|  Modifier 'public' not permitted in top-level declarations, ignored\r\n",
      "|  public int returnInt(int m){\r\n",
      "|  ^----^\r\n",
      "|  Added method returnInt\r\n",
      "\r\n"
     ]
    }
   ],
   "source": [
    "public int returnInt(int m){\n",
    "  return m;\n",
    "}"
   ]
  },
  {
   "cell_type": "code",
   "execution_count": 6,
   "metadata": {
    "collapsed": false
   },
   "outputs": [
    {
     "name": "stdout",
     "output_type": "stream",
     "text": [
      " /m\r\n",
      "|    printf (Ljava/lang/String;[Ljava/lang/Object;)V\r\n",
      "|    returnInt (I)I\r\n",
      "\r\n"
     ]
    }
   ],
   "source": [
    "/m"
   ]
  },
  {
   "cell_type": "code",
   "execution_count": 7,
   "metadata": {
    "collapsed": false
   },
   "outputs": [
    {
     "name": "stdout",
     "output_type": "stream",
     "text": [
      " returnInt(2)\r\n",
      "|  Expression value is: 2\r\n",
      "|    assigned to temporary variable $1 of type int\r\n",
      "\r\n"
     ]
    }
   ],
   "source": [
    "returnInt(2)"
   ]
  },
  {
   "cell_type": "code",
   "execution_count": 8,
   "metadata": {
    "collapsed": false
   },
   "outputs": [
    {
     "name": "stdout",
     "output_type": "stream",
     "text": [
      " returnInt(3)\r\n",
      "|  Expression value is: 3\r\n",
      "|    assigned to temporary variable $2 of type int\r\n",
      "\r\n"
     ]
    }
   ],
   "source": [
    "returnInt(3)"
   ]
  },
  {
   "cell_type": "code",
   "execution_count": 9,
   "metadata": {
    "collapsed": false
   },
   "outputs": [
    {
     "name": "stdout",
     "output_type": "stream",
     "text": [
      " /v\r\n",
      "|    int $1 = 2\r\n",
      "|    int $2 = 3\r\n",
      "\r\n"
     ]
    }
   ],
   "source": [
    "/v"
   ]
  },
  {
   "cell_type": "code",
   "execution_count": 10,
   "metadata": {
    "collapsed": false
   },
   "outputs": [
    {
     "name": "stdout",
     "output_type": "stream",
     "text": [
      " $1\r\n",
      "|  Variable $1 of type int has value 2\r\n",
      "\r\n"
     ]
    }
   ],
   "source": [
    "$1"
   ]
  },
  {
   "cell_type": "code",
   "execution_count": 11,
   "metadata": {
    "collapsed": false
   },
   "outputs": [
    {
     "name": "stdout",
     "output_type": "stream",
     "text": [
      " String batman = \"bat\" + \"man\"\r\n",
      "|  Added variable batman of type String with initial value \"batman\"\r\n",
      "\r\n"
     ]
    }
   ],
   "source": [
    "String batman = \"bat\" + \"man\""
   ]
  },
  {
   "cell_type": "code",
   "execution_count": 12,
   "metadata": {
    "collapsed": false
   },
   "outputs": [
    {
     "name": "stdout",
     "output_type": "stream",
     "text": [
      " batman\r\n",
      "|  Variable batman of type String has value \"batman\"\r\n",
      "\r\n"
     ]
    }
   ],
   "source": [
    "batman"
   ]
  },
  {
   "cell_type": "code",
   "execution_count": 13,
   "metadata": {
    "collapsed": false
   },
   "outputs": [
    {
     "name": "stdout",
     "output_type": "stream",
     "text": [
      " returnInt(batman)\r\n",
      "|  Error:\r\n",
      "|  incompatible types: java.lang.String cannot be converted to int\r\n",
      "|  returnInt(batman)\r\n",
      "|            ^----^\r\n",
      "\r\n"
     ]
    }
   ],
   "source": [
    "returnInt(batman)"
   ]
  },
  {
   "cell_type": "code",
   "execution_count": null,
   "metadata": {
    "collapsed": true
   },
   "outputs": [],
   "source": []
  }
 ],
 "metadata": {
  "kernelspec": {
   "display_name": "Java 9",
   "language": "java",
   "name": "java"
  },
  "language_info": {
   "file_extension": ".class",
   "mimetype": "application/java-vm",
   "name": "java"
  }
 },
 "nbformat": 4,
 "nbformat_minor": 0
}
