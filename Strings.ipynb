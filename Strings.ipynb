{
 "cells": [
  {
   "cell_type": "code",
   "execution_count": 1,
   "metadata": {
    "collapsed": false
   },
   "outputs": [
    {
     "name": "stdout",
     "output_type": "stream",
     "text": [
      " System.out.println(\"strings\")\r\n",
      "strings\r\n",
      "\r\n"
     ]
    }
   ],
   "source": [
    "System.out.println(\"strings\")"
   ]
  },
  {
   "cell_type": "code",
   "execution_count": 2,
   "metadata": {
    "collapsed": false
   },
   "outputs": [
    {
     "name": "stdout",
     "output_type": "stream",
     "text": [
      " String string1 = \"hello wOrld\"\r\n",
      "|  Added variable string1 of type String with initial value \"hello wOrld\"\r\n",
      "\r\n"
     ]
    }
   ],
   "source": [
    "//variables\n",
    "String string1 = \"hello wOrld\""
   ]
  },
  {
   "cell_type": "markdown",
   "metadata": {},
   "source": [
    "As with any other object, you can create String objects by using the new keyword and a constructor. The String class has eleven constructors that allow you to provide the initial value of the string using different sources, such as an array of characters."
   ]
  },
  {
   "cell_type": "code",
   "execution_count": 3,
   "metadata": {
    "collapsed": false
   },
   "outputs": [
    {
     "name": "stdout",
     "output_type": "stream",
     "text": [
      " char[] helloArray = {'h', 'e', 'l', 'l','o', '.'}\r\n",
      "|  Added variable helloArray of type char[] with initial value [C@1517365b\r\n",
      "\r\n"
     ]
    }
   ],
   "source": [
    "char[] helloArray = {'h', 'e', 'l', 'l','o', '.'}"
   ]
  },
  {
   "cell_type": "code",
   "execution_count": 4,
   "metadata": {
    "collapsed": false
   },
   "outputs": [
    {
     "name": "stdout",
     "output_type": "stream",
     "text": [
      " String helloString = new String(helloArray)\r\n",
      "|  Added variable helloString of type String with initial value \"hello.\"\r\n",
      "\r\n"
     ]
    }
   ],
   "source": [
    "String helloString = new String(helloArray)"
   ]
  },
  {
   "cell_type": "code",
   "execution_count": 5,
   "metadata": {
    "collapsed": false
   },
   "outputs": [
    {
     "name": "stdout",
     "output_type": "stream",
     "text": [
      " System.out.println(helloString)\r\n",
      "hello.\r\n",
      "\r\n"
     ]
    }
   ],
   "source": [
    "System.out.println(helloString)"
   ]
  },
  {
   "cell_type": "code",
   "execution_count": 6,
   "metadata": {
    "collapsed": false
   },
   "outputs": [
    {
     "name": "stdout",
     "output_type": "stream",
     "text": [
      " helloString.length()\r\n",
      "|  Expression value is: 6\r\n",
      "|    assigned to temporary variable $1 of type int\r\n",
      "\r\n"
     ]
    }
   ],
   "source": [
    "helloString.length()"
   ]
  },
  {
   "cell_type": "code",
   "execution_count": 9,
   "metadata": {
    "collapsed": false
   },
   "outputs": [
    {
     "name": "stdout",
     "output_type": "stream",
     "text": [
      " String concat = (helloString + string1)\r\n",
      "|  Modified variable concat of type String with initial value \"hello.hello wOrld\"\r\n",
      "\r\n"
     ]
    }
   ],
   "source": [
    "//Concatenation\n",
    "String concat = (helloString + string1)"
   ]
  },
  {
   "cell_type": "code",
   "execution_count": 10,
   "metadata": {
    "collapsed": false
   },
   "outputs": [
    {
     "name": "stdout",
     "output_type": "stream",
     "text": [
      " System.out.println(concat)\r\n",
      "hell\r\n"
     ]
    }
   ],
   "source": [
    "System.out.println(concat)"
   ]
  },
  {
   "cell_type": "code",
   "execution_count": 11,
   "metadata": {
    "collapsed": false
   },
   "outputs": [
    {
     "name": "stdout",
     "output_type": "stream",
     "text": [
      " helloString.charAt(2)\r\n",
      "|  Expression value is: 'l'\r\n",
      "|    assigned to temporary variable $2 of type char\r\n",
      "\r\n"
     ]
    }
   ],
   "source": [
    "//return character at specified index\n",
    "helloString.charAt(2)"
   ]
  },
  {
   "cell_type": "code",
   "execution_count": 14,
   "metadata": {
    "collapsed": false
   },
   "outputs": [
    {
     "name": "stdout",
     "output_type": "stream",
     "text": [
      " helloString.compareTo(helloString)\r\n",
      "|  Expression value is: 0\r\n",
      "|    assigned to temporary variable $5 of type int\r\n",
      "\r\n"
     ]
    }
   ],
   "source": [
    "//compares the string using comparator\n",
    "helloString.compareTo(helloString)"
   ]
  },
  {
   "cell_type": "code",
   "execution_count": 16,
   "metadata": {
    "collapsed": false
   },
   "outputs": [
    {
     "name": "stdout",
     "output_type": "stream",
     "text": [
      " a = string1.toCharArray()\r\n",
      "|  Variable a has been assigned the value [C@7bfcd12c\r\n",
      "\r\n"
     ]
    }
   ],
   "source": [
    "char [] a;\n",
    "a = string1.toCharArray()"
   ]
  },
  {
   "cell_type": "code",
   "execution_count": 17,
   "metadata": {
    "collapsed": false
   },
   "outputs": [
    {
     "name": "stdout",
     "output_type": "stream",
     "text": [
      " System.out.println(a)\r\n",
      "hello wOrld\r\n",
      "\r\n"
     ]
    }
   ],
   "source": [
    "System.out.println(a)"
   ]
  },
  {
   "cell_type": "code",
   "execution_count": 20,
   "metadata": {
    "collapsed": false
   },
   "outputs": [
    {
     "name": "stdout",
     "output_type": "stream",
     "text": [
      " System.out.println(helloArray)\r\n",
      "hello.\r\n",
      "\r\n"
     ]
    }
   ],
   "source": [
    "System.out.println(helloArray)"
   ]
  },
  {
   "cell_type": "code",
   "execution_count": 21,
   "metadata": {
    "collapsed": false
   },
   "outputs": [
    {
     "name": "stdout",
     "output_type": "stream",
     "text": [
      " string1.toUpperCase()\r\n",
      "|  Expression value is: \"HELLO WORLD\"\r\n",
      "|    assigned to temporary variable $6 of type String\r\n",
      "\r\n"
     ]
    }
   ],
   "source": [
    "string1.toUpperCase()"
   ]
  },
  {
   "cell_type": "code",
   "execution_count": null,
   "metadata": {
    "collapsed": true
   },
   "outputs": [],
   "source": []
  }
 ],
 "metadata": {
  "kernelspec": {
   "display_name": "Java 9",
   "language": "java",
   "name": "java"
  },
  "language_info": {
   "file_extension": ".class",
   "mimetype": "application/java-vm",
   "name": "java"
  }
 },
 "nbformat": 4,
 "nbformat_minor": 0
}
