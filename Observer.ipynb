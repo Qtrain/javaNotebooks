{
 "cells": [
  {
   "cell_type": "markdown",
   "metadata": {},
   "source": [
    "## The Observer Pattern"
   ]
  },
  {
   "cell_type": "markdown",
   "metadata": {},
   "source": [
    "<p>The observer pattern defines a one-to-many dependency between objects so that when one object changes state all of it's dependents are notified and updated automatically.</p>\n",
    "\n",
    "<h5>Analogy</h5>\n",
    "<p>This is best understood in the context of a newspaper subscription analogy</p>\n",
    "    * The newspaper publisher delivers newspapers (subject)\n",
    "    * You subscribe to a newspaper so you are a subscriber (observer)\n",
    "    * As long as you stay subscribed you receive new updates \n",
    "    * You can unsubscribe so you don't have updates \n",
    "    * While the newspaper stays in business people, businesses, etc(objects) subscribe to the paper"
   ]
  },
  {
   "cell_type": "code",
   "execution_count": 29,
   "metadata": {
    "collapsed": false
   },
   "outputs": [
    {
     "name": "stdout",
     "output_type": "stream",
     "text": [
      " }\r\n",
      "|  Modified interface Subject\r\n",
      "\r\n"
     ]
    }
   ],
   "source": [
    "/**public**/ interface Subject{\n",
    "  public void registerObserver(Observer o);\n",
    "  public void removeObserver(Observer o);\n",
    "  public void notifyObservers();\n",
    "}"
   ]
  },
  {
   "cell_type": "code",
   "execution_count": 30,
   "metadata": {
    "collapsed": false
   },
   "outputs": [
    {
     "name": "stdout",
     "output_type": "stream",
     "text": [
      " }\r\n",
      "|  Warning:\r\n",
      "|  unchecked call to add(E) as a member of the raw type java.util.ArrayList\r\n",
      "|      observers.add(o);\r\n",
      "|      ^--------------^\r\n",
      "|  Modified class WeatherData\r\n",
      "\r\n"
     ]
    }
   ],
   "source": [
    "/**public**/ class WeatherData implements Subject {\n",
    "  private ArrayList observers;\n",
    "  private float temperature;\n",
    "  private float humidity;\n",
    "  private float pressure;\n",
    "  \n",
    "  //constructor\n",
    "  public WeatherData(){\n",
    "    observers = new ArrayList();\n",
    "  }\n",
    "  \n",
    "  public void registerObserver(Observer o){\n",
    "    observers.add(o);\n",
    "  }\n",
    "  \n",
    "  public void removeObserver(Observer o){\n",
    "    int i = observers.indexOf(o);\n",
    "    if (i >= 0){\n",
    "      observers.remove(i);\n",
    "    }  \n",
    "  }\n",
    "  \n",
    "  public void notifyObservers(){\n",
    "  \n",
    "   for(int i=0; i < observers.size(); i++){\n",
    "      Observer observer = (Observer)observers.get(i);\n",
    "      //this is the fun part - all observers implement update from interface\n",
    "      observer.update(temperature, humidity, pressure);\n",
    "    }\n",
    "  }\n",
    "  \n",
    "  public void measurementsChanged(){\n",
    "    notifyObservers();\n",
    "  }\n",
    "  \n",
    "  public void setMeasurements(float temperature, float humidity, float pressure){\n",
    "    this.temperature = temperature;\n",
    "    this.humidity = humidity;\n",
    "    this.pressure = pressure;\n",
    "    measurementsChanged();  \n",
    "  }  \n",
    "}"
   ]
  },
  {
   "cell_type": "markdown",
   "metadata": {},
   "source": [
    "# Display Elements"
   ]
  },
  {
   "cell_type": "code",
   "execution_count": null,
   "metadata": {
    "collapsed": true
   },
   "outputs": [],
   "source": [
    "/**public**/ interface Observer {\n",
    "  public void update (float temp, float humidity, float pressure);\n",
    "}"
   ]
  },
  {
   "cell_type": "code",
   "execution_count": null,
   "metadata": {
    "collapsed": true
   },
   "outputs": [],
   "source": [
    "/**public**/ interface DisplayElement {\n",
    "  public void display();\n",
    "}"
   ]
  },
  {
   "cell_type": "code",
   "execution_count": 5,
   "metadata": {
    "collapsed": false
   },
   "outputs": [
    {
     "name": "stdout",
     "output_type": "stream",
     "text": [
      " }\r\n",
      "|  Warning:\r\n",
      "|  Modifier 'public' not permitted in top-level declarations, ignored\r\n",
      "|  public class CurrentConditionsDisplay implements Observer, DisplayElement{\r\n",
      "|  ^----^\r\n",
      "|  Added class CurrentConditionsDisplay\r\n",
      "\r\n"
     ]
    }
   ],
   "source": [
    "/**public**/ class CurrentConditionsDisplay implements Observer, DisplayElement{\n",
    "  private float temperature;\n",
    "  private float humidity;\n",
    "  private float pressure;\n",
    "  private Subject weatherData;\n",
    "  \n",
    "  public CurrentConditionsDisplay(Subject weatherData){\n",
    "    this.weatherData = weatherData;\n",
    "    weatherData.registerObserver(this);\n",
    "  }\n",
    "  \n",
    "  public void update (float temperature, float humidity, float pressure){\n",
    "    this.temperature = temperature;\n",
    "    this.humidity = humidity;\n",
    "    this.pressure = pressure;\n",
    "    display();\n",
    "  }\n",
    "  \n",
    "  public void display(){\n",
    "    System.out.println(\"Current conditions: \" + temperature + \"F degreees and \" +\n",
    "    humidity + \"% humidity\");\n",
    "  }\n",
    "}"
   ]
  },
  {
   "cell_type": "code",
   "execution_count": null,
   "metadata": {
    "collapsed": false
   },
   "outputs": [],
   "source": [
    "/list"
   ]
  },
  {
   "cell_type": "markdown",
   "metadata": {},
   "source": [
    "# Test Client"
   ]
  },
  {
   "cell_type": "code",
   "execution_count": 31,
   "metadata": {
    "collapsed": false
   },
   "outputs": [
    {
     "name": "stdout",
     "output_type": "stream",
     "text": [
      " /**}**/\r\n",
      "\r\n"
     ]
    }
   ],
   "source": [
    "/**public class WeatherStation{**/\n",
    "    /**public static void main(String[] args) {**/\n",
    "    WeatherData weatherData = new WeatherData();  \n",
    "    CurrentConditionsDisplay currentDisplay = new CurrentConditionsDisplay(weatherData);\n",
    "    weatherData.setMeasurements(80, 65, 20);\n",
    "    currentDisplay.display();\n",
    "   /**}**/\n",
    "/**}**/\n"
   ]
  },
  {
   "cell_type": "code",
   "execution_count": 33,
   "metadata": {
    "collapsed": false
   },
   "outputs": [
    {
     "name": "stdout",
     "output_type": "stream",
     "text": [
      " : 80.0F degreees and 65.0% humidity\r\n",
      "currentDisplay.display();\r\n",
      "Current conditions: 80.0F degreees a\r\n"
     ]
    }
   ],
   "source": [
    "currentDisplay.display();"
   ]
  },
  {
   "cell_type": "code",
   "execution_count": 34,
   "metadata": {
    "collapsed": false
   },
   "outputs": [
    {
     "name": "stdout",
     "output_type": "stream",
     "text": [
      " nd 65.0% humidity\r\n",
      "weatherData.setMeasurements(60, 20, 5);\r\n",
      "Current conditions: 60.0F degreees and 20.0% humidity\r\n",
      "\r\n"
     ]
    }
   ],
   "source": [
    "weatherData.setMeasurements(60, 20, 5);\n"
   ]
  },
  {
   "cell_type": "code",
   "execution_count": 35,
   "metadata": {
    "collapsed": false
   },
   "outputs": [
    {
     "name": "stdout",
     "output_type": "stream",
     "text": [
      " currentDisplay.display();\r\n",
      "Current conditions: 60.0F degreees and 20.0% humid\r\n"
     ]
    }
   ],
   "source": [
    "currentDisplay.display();"
   ]
  },
  {
   "cell_type": "code",
   "execution_count": null,
   "metadata": {
    "collapsed": true
   },
   "outputs": [],
   "source": []
  }
 ],
 "metadata": {
  "kernelspec": {
   "display_name": "Java 9",
   "language": "java",
   "name": "java"
  },
  "language_info": {
   "file_extension": ".class",
   "mimetype": "application/java-vm",
   "name": "java"
  }
 },
 "nbformat": 4,
 "nbformat_minor": 0
}
