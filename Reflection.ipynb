{
 "cells": [
  {
   "cell_type": "markdown",
   "metadata": {},
   "source": [
    "## Reflection"
   ]
  },
  {
   "cell_type": "markdown",
   "metadata": {},
   "source": [
    "You can use the concept of reflection to write a generic copy method that can determine type at runtime.  In a nutshell, reflection is the ability to inspect classes, interfaces, fields and methods at runtime without knowing the names of classes, methods etc at compile time. \n",
    "\n",
    "[java.lang.Reflect](https://docs.oracle.com/javase/7/docs/api/java/lang/reflect/package-summary.html) together with [java.lang.Class](https://docs.oracle.com/javase/6/docs/api/java/lang/Class.html) comprise the Java Reflection API.  This method uses both of those classes and some of their methods to make a generic `arrayCopy` method that will find out the type for us.  \n",
    "\n",
    "More info: [What is reflection and why is it useful?](https://stackoverflow.com/questions/37628/what-is-reflection-and-why-is-it-useful)\n",
    "\n",
    "\n",
    "\n",
    "### Syntax that may be unfamiliar\n",
    "\n",
    "<li>`Class<?>` is using a wildcard operator `?` which basically says  that we can have a `Class` object of unknown type - a generic version of class `Class`.</li>\n",
    "<li>`<T>`  is a generic operator that stands for [raw type](https://stackoverflow.com/questions/2770321/what-is-a-raw-type-and-why-shouldnt-we-use-it)</li>\n",
    "<li>`Array`The Array class provides static methods to dynamically create and access Java arrays. i.e. This class contains methods that allow you to set and query the values of array elements, determine the length of the array, and create new instances of arrays.  We are going to use `Array.newInstance()`</li>\n",
    "\n",
    "### Methods from reflection API\n",
    "\n",
    "<li>`getClass ()` - returns an array containing Class objects representing all public classes and interfaces that are members of the represented class object.</li>\n",
    "<li>`getComponentType()` - returns the class representing the component type (what type i.e. int, <String>, etc) of the array.</li>\n",
    "<li>`newInstance()` - Gets a new instance of an array.</li>\n"
   ]
  },
  {
   "cell_type": "code",
   "execution_count": 1,
   "metadata": {
    "collapsed": false
   },
   "outputs": [
    {
     "name": "stdout",
     "output_type": "stream",
     "text": [
      " }\r\n",
      "|  Warning:\r\n",
      "|  unchecked cast\r\n",
      "|    required: T[]\r\n",
      "|    found:    java.lang.Object\r\n",
      "|      T[] copy = (T[])java.lang.reflect.Array.newInstance(arrayType, original.length);\r\n",
      "|                      ^-------------------------------------------------------------^\r\n",
      "|  Warning:\r\n",
      "|  Modifier 'private' not permitted in top-level declarations, ignored\r\n",
      "|  private <T> T[] arrayCopy(T[] original) {\r\n",
      "|  ^-----^\r\n",
      "|  Added method arrayCopy\r\n",
      "\r\n"
     ]
    }
   ],
   "source": [
    "private <T> T[] arrayCopy(T[] original) {\n",
    "\n",
    "    @SuppressWarnings(\"unchecked\")\n",
    "    //get the class type of the original array we passed in and determine the type, store in arrayType\n",
    "    Class<?> arrayType = original.getClass().getComponentType();\n",
    "\n",
    "    //declare array, cast to (T[]) that was determined using reflection, use java.lang.reflect to create a new instance of an Array(of arrayType variable, and the same length as the original\n",
    "    T[] copy = (T[])java.lang.reflect.Array.newInstance(arrayType, original.length);\n",
    "\n",
    "    //Use System and arraycopy to copy the array\n",
    "    System.arraycopy(original, 0, copy, 0, original.length);\n",
    "    System.out.println(Arrays.deepToString(copy));\n",
    "    return copy;\n",
    "}"
   ]
  },
  {
   "cell_type": "code",
   "execution_count": 9,
   "metadata": {
    "collapsed": false
   },
   "outputs": [
    {
     "name": "stdout",
     "output_type": "stream",
     "text": [
      " ArrayList<Object> objectList = new ArrayList<>();\r\n",
      "|  Added variable objectList of type ArrayList<Object> with initial value []\r\n",
      "\r\n"
     ]
    }
   ],
   "source": [
    "int [] b = new int[]{1,3,4,5};\n",
    "List<String> list = new ArrayList<>();\n",
    "list.add(\"hello\");\n",
    "list.add(\"there\");\n",
    "ArrayList<Object> objectList = new ArrayList<>();"
   ]
  },
  {
   "cell_type": "code",
   "execution_count": 10,
   "metadata": {
    "collapsed": false
   },
   "outputs": [
    {
     "name": "stdout",
     "output_type": "stream",
     "text": [
      " objectList.add(3)\r\n",
      "|  Expression value is: true\r\n",
      "|    assigned to temporary variable $9 of type boolean\r\n",
      "\r\n"
     ]
    }
   ],
   "source": [
    "objectList.add(3)"
   ]
  },
  {
   "cell_type": "code",
   "execution_count": 17,
   "metadata": {
    "collapsed": false
   },
   "outputs": [
    {
     "name": "stdout",
     "output_type": "stream",
     "text": [
      " }\r\n",
      "Restarting java"
     ]
    }
   ],
   "source": [
    "public class MyArrayList<E> {\n",
    "\n",
    "private E[] elements;\n",
    "\t\n",
    "\tpublic MyArrayList(int size){\n",
    "\t\telements = new E[size];\n",
    "\t}\n",
    "\n",
    "}"
   ]
  },
  {
   "cell_type": "code",
   "execution_count": null,
   "metadata": {
    "collapsed": false
   },
   "outputs": [],
   "source": [
    "/vars\n"
   ]
  },
  {
   "cell_type": "code",
   "execution_count": null,
   "metadata": {
    "collapsed": false
   },
   "outputs": [],
   "source": [
    "import java.util.Arrays;\n",
    "System.out.println(Arrays.toString(b));"
   ]
  },
  {
   "cell_type": "code",
   "execution_count": 20,
   "metadata": {
    "collapsed": false
   },
   "outputs": [
    {
     "name": "stdout",
     "output_type": "stream",
     "text": [
      " T v[] = new T[] {a};\r\n",
      "|  Error:\r\n",
      "|  cannot find symbol\r\n",
      "|    symbol:   class T\r\n",
      "|  T v[] = new T[] {a};\r\n",
      "|  ^\r\n",
      "|  Error:\r\n",
      "|  cannot find symbol\r\n",
      "|    symbol:   class T\r\n",
      "|  T v[] = new T[] {a};\r\n",
      "|  ^\r\n",
      "|  Error:\r\n",
      "|  cannot find symbol\r\n",
      "|    symbol:   class T\r\n",
      "|  T v[] = new T[] {a};\r\n",
      "|              ^\r\n",
      "|  Error:\r\n",
      "|  cannot find symbol\r\n",
      "|    symbol:   variable a\r\n",
      "|  T v[] = new T[] {a};\r\n",
      "|                   ^\r\n",
      "\r\n"
     ]
    }
   ],
   "source": [
    "T v[] = new T[] {a};"
   ]
  },
  {
   "cell_type": "code",
   "execution_count": null,
   "metadata": {
    "collapsed": true
   },
   "outputs": [],
   "source": []
  }
 ],
 "metadata": {
  "kernelspec": {
   "display_name": "Java 9",
   "language": "java",
   "name": "java"
  },
  "language_info": {
   "file_extension": ".class",
   "mimetype": "application/java-vm",
   "name": "java"
  }
 },
 "nbformat": 4,
 "nbformat_minor": 0
}
